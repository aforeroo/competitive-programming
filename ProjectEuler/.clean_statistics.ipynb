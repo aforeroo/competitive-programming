{
 "cells": [
  {
   "cell_type": "markdown",
   "metadata": {},
   "source": [
    "El archivo original de estadisticas de problemas de Project euler llego en el siguiente formato:\n",
    "\n",
    "ID,Description,Published,Solved By,Solve Status\n",
    "\n",
    "\"1,\"\"Multiples of 3 or 5\"\",1002301200,968055,1\"\n",
    "\n",
    "\"2,\"\"Even Fibonacci numbers\"\",1003510800,772131,1\"\n",
    "\n",
    "\"3,\"\"Largest prime, factor\"\",1004724000,555408,0\"\n",
    "\n",
    "....\n",
    "\n",
    "\n",
    "podemos notar dos cosas que no nos permitiran leer facilmente el archivo como csv normalmente(sin caracteres innecesarios)\n",
    "\n",
    "1. cada linea despues del header tiene un simbolo `\"` al inicio y al final\n",
    "2. el segundo valor de cada linea: el nombre del problema esta encerrado con dos áres de comillas al inicio y al final\n",
    "3. algunas filas continen comas que estan entre las dobles comillas y no deberain ser contadas como valores de columnas\n"
   ]
  },
  {
   "cell_type": "code",
   "execution_count": 14,
   "metadata": {},
   "outputs": [
    {
     "name": "stdout",
     "output_type": "stream",
     "text": [
      "Limpieza completada !! \n",
      "Ahora puede trabajar con el archivo .statistics-project-euler-2021.csv\n"
     ]
    }
   ],
   "source": [
    "origin = open('.raw-statistics-project-euler-2021.csv', 'r') # archivo a leer (sucio)\n",
    "final = open('.statistics-project-euler-2021.csv', 'w')# archivo a escribir\n",
    "\n",
    "\n",
    "final.write(origin.readline())\n",
    "line = origin.readline()\n",
    "while line:# minetras no se haya llegado al final del archivo\n",
    "    string = line[1:-2]\n",
    "    ## primera ocurrencia del simbolo ' \" '\n",
    "    first_ocurrence = string.index('\"') \n",
    "    ## ultima ocurrencia del simbolo ' \" '\n",
    "    last_ocurrence = max(index for index in range(len(string)) if string[index] == '\"')\n",
    "\n",
    "    # vamos a eliminar cualquier ocurrencia de comas entre estos dos indices\n",
    "    new_string = ''\n",
    "    for i in range(len(string)):\n",
    "        if i > first_ocurrence and i < last_ocurrence and string[i]==',' :\n",
    "            new_string += '.'\n",
    "            continue\n",
    "        new_string += string[i]\n",
    "\n",
    "    # los indices de la uicacion de los ' \" ' pudieron cammbiar se recalculan\n",
    "\n",
    "    string = new_string \n",
    "    # ahora trabajamos con un string que no tiene comas donde no deberian estar faltan las dobles comillas\n",
    "    first_ocurrence = string.index('\"') \n",
    "    ## ultima ocurrencia del simbolo ' \" '\n",
    "    last_ocurrence = max(index for index in range(len(string)) if string[index] == '\"')\n",
    "\n",
    "    # juntamos solo las partes que queremos, sabemos exactamente donde estan los dos pares de ' \" ' y los evitamos \n",
    "    string = string[:first_ocurrence] + string[first_ocurrence+2:last_ocurrence-1] + string[last_ocurrence+1:]\n",
    "\n",
    "    final.write(string + '\\n')\n",
    "    line = origin.readline()\n",
    "final.close()\n",
    "origin.close()\n",
    "\n",
    "print('Limpieza completada !! \\nAhora puede trabajar con el archivo .statistics-project-euler-2021.csv')"
   ]
  },
  {
   "cell_type": "markdown",
   "metadata": {},
   "source": [
    "# Analizar datos"
   ]
  },
  {
   "cell_type": "code",
   "execution_count": 17,
   "metadata": {},
   "outputs": [
    {
     "name": "stdout",
     "output_type": "stream",
     "text": [
      "                    Description   Published  SolvedBy  SolveStatus\n",
      "ID                                                                \n",
      "1           Multiples of 3 or 5  1002301200    968055            1\n",
      "2        Even Fibonacci numbers  1003510800    772131            1\n",
      "3          Largest prime factor  1004724000    555408            0\n",
      "4    Largest palindrome product  1005933600    491523            0\n",
      "5             Smallest multiple  1007143200    494881            0\n",
      "..                          ...         ...       ...          ...\n",
      "775                Saving Paper  1638666000       197            0\n",
      "776          Digit Sum Division  1639281600       363            0\n",
      "777            Lissajous Curves  1639897200        87            0\n",
      "778          Freshman's Product  1640512800       287            0\n",
      "779   Prime Factor and Exponent  1641042000       331            0\n",
      "\n",
      "[779 rows x 4 columns]\n"
     ]
    }
   ],
   "source": [
    "import pandas as pd\n",
    "pe_frame = pd.read_csv('.statistics-project-euler-2021.csv', index_col=0)\n",
    "print(pe_frame)"
   ]
  }
 ],
 "metadata": {
  "interpreter": {
   "hash": "5f5aea52d08f8c245b88135fed10eda517622796f0f242f9e2f76343b24bc785"
  },
  "kernelspec": {
   "display_name": "Python 3.9.12 ('venv_notebooks')",
   "language": "python",
   "name": "python3"
  },
  "language_info": {
   "codemirror_mode": {
    "name": "ipython",
    "version": 3
   },
   "file_extension": ".py",
   "mimetype": "text/x-python",
   "name": "python",
   "nbconvert_exporter": "python",
   "pygments_lexer": "ipython3",
   "version": "3.9.12"
  },
  "orig_nbformat": 4
 },
 "nbformat": 4,
 "nbformat_minor": 2
}
